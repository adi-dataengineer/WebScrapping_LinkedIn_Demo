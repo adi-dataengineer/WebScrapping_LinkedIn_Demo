{
 "cells": [
  {
   "cell_type": "code",
   "execution_count": 25,
   "metadata": {},
   "outputs": [],
   "source": [
    "# importing packages\n",
    "import pandas as pd\n",
    "import re\n",
    "from bs4 import BeautifulSoup\n",
    "import requests \n",
    "from requests import get\n",
    "from warnings import warn"
   ]
  },
  {
   "cell_type": "code",
   "execution_count": 26,
   "metadata": {},
   "outputs": [],
   "source": [
    "def get_urls(raw_url,pages_to_extract,page_inc):\n",
    "    return [raw_url+'&start='+str((x)*(page_inc)) for x in range(pages_to_extract)]"
   ]
  },
  {
   "cell_type": "code",
   "execution_count": 27,
   "metadata": {},
   "outputs": [],
   "source": [
    "def get_job_soup(url):\n",
    "    from requests import get\n",
    "    source = requests.get(url).text\n",
    "    soup = BeautifulSoup(source,'lxml')\n",
    "    #jobs = soup.find('ul', class_ = 'jobs-search__results-list')\n",
    "    return soup"
   ]
  },
  {
   "cell_type": "code",
   "execution_count": 28,
   "metadata": {},
   "outputs": [],
   "source": [
    "def get_job_fields(soup):\n",
    "    job_container_jobs = soup.find_all('a', class_ = 'base-card__full-link')\n",
    "    job_names = [x.span.text.strip() for x in job_container_jobs]\n",
    "    job_urls = [x['href'] for x in job_container_jobs]\n",
    "    job_id = [re.findall(r'(?!-)([0-9]*)(?=\\?)',x)[0] for x in job_urls]\n",
    "    \n",
    "    job_container_company = soup.find_all('a', class_ = 'hidden-nested-link')\n",
    "    company_names = [x.text.strip() for x in job_container_company]\n",
    "    company_urls = [x['href'] for x in job_container_company]\n",
    "    \n",
    "    job_info = soup.find_all('div', class_ = 'base-search-card__metadata')\n",
    "    company_benefits = [str(x) if str(x) == 'None' else x.text.strip() for x in [x.find('span', class_ = 'result-benefits__text') for x in job_info]]\n",
    "    date_posted = [x.time['datetime'] for x in job_info]\n",
    "    salary = [str(x) if str(x) == 'None' else str(x.text.strip()) for x in [x.find('span', class_ = 'job-search-card__salary-info') for x in job_info]]\n",
    "    job_location = [str(x) if str(x) == 'None' else x.text.strip() for x in [x.find('span', class_ = 'job-search-card__location') for x in job_info]]\n",
    "    job_snippet = [str(x) if str(x) == 'None' else x.text.strip() for x in [x.find('p', class_ = 'job-search-card__snippet') for x in job_info]]\n",
    "    easy_apply = [str(x) if str(x) == 'None' else 'Easy Apply Enabled' for x in [x.find('span', class_ = 'job-search-card__easy-apply-label') for x in job_info]]\n",
    "    \n",
    "    return [job_id,job_names,company_names,date_posted,salary,job_location,easy_apply,company_benefits,job_urls,company_urls,job_snippet]"
   ]
  },
  {
   "cell_type": "code",
   "execution_count": 29,
   "metadata": {},
   "outputs": [],
   "source": [
    "raw_url = 'https://www.linkedin.com/jobs/search/?geoId=101165590&keywords=data%20analyst&location=United%20Kingdom'\n",
    "pages_to_extract = 40\n",
    "page_inc = 25\n",
    "\n",
    "urls = get_urls(raw_url,pages_to_extract,page_inc)\n",
    "soups = [get_job_soup(url) for url in urls]\n",
    "job_fields = [get_job_fields(soup) for soup in soups]"
   ]
  },
  {
   "cell_type": "code",
   "execution_count": 30,
   "metadata": {},
   "outputs": [],
   "source": [
    "key0 = []\n",
    "key1 = []\n",
    "key2 = []\n",
    "key3 = []\n",
    "key4 = []\n",
    "key5 = []\n",
    "key6 = []\n",
    "key7 = []\n",
    "key8 = []\n",
    "key9 = []\n",
    "key10 = []\n",
    "\n",
    "for i in range(pages_to_extract):\n",
    "    key0.extend(job_fields[i][0])\n",
    "    key1.extend(job_fields[i][1])\n",
    "    key2.extend(job_fields[i][2])\n",
    "    key3.extend(job_fields[i][3])\n",
    "    key4.extend(job_fields[i][4])\n",
    "    key5.extend(job_fields[i][5])\n",
    "    key6.extend(job_fields[i][6])\n",
    "    key7.extend(job_fields[i][7])\n",
    "    key8.extend(job_fields[i][8])\n",
    "    key9.extend(job_fields[i][9])\n",
    "    key10.extend(job_fields[i][10])\n",
    "    \n",
    "link_jobs = pd.DataFrame(data=zip(key0,\n",
    "                                  key1,\n",
    "                                  key2,\n",
    "                                  key3,\n",
    "                                  key4,\n",
    "                                  key5,\n",
    "                                  key6,\n",
    "                                  key7,\n",
    "                                  key8,\n",
    "                                  key9,\n",
    "                                  key10),\n",
    "              columns=['Linkedin Job ID','Job Title','Company','Date Posted','Salary',\n",
    "                       'Location','Easy Apply','Hiring status','Job Link','Company Profile','Job Desc'])\n",
    "\n",
    "link_jobs_unq = link_jobs.drop_duplicates(subset='Linkedin Job ID', keep='first', inplace=False).sort_values(by=['Date Posted'],ascending=False)\n",
    "link_jobs_unq.to_csv('jobs.csv',index = False)"
   ]
  },
  {
   "cell_type": "code",
   "execution_count": 31,
   "metadata": {},
   "outputs": [],
   "source": []
  },
  {
   "cell_type": "code",
   "execution_count": null,
   "metadata": {},
   "outputs": [],
   "source": []
  },
  {
   "cell_type": "code",
   "execution_count": null,
   "metadata": {},
   "outputs": [],
   "source": []
  },
  {
   "cell_type": "code",
   "execution_count": null,
   "metadata": {},
   "outputs": [],
   "source": []
  },
  {
   "cell_type": "code",
   "execution_count": null,
   "metadata": {},
   "outputs": [],
   "source": []
  },
  {
   "cell_type": "code",
   "execution_count": null,
   "metadata": {},
   "outputs": [],
   "source": []
  }
 ],
 "metadata": {
  "kernelspec": {
   "display_name": "Python 3",
   "language": "python",
   "name": "python3"
  },
  "language_info": {
   "codemirror_mode": {
    "name": "ipython",
    "version": 3
   },
   "file_extension": ".py",
   "mimetype": "text/x-python",
   "name": "python",
   "nbconvert_exporter": "python",
   "pygments_lexer": "ipython3",
   "version": "3.8.3"
  }
 },
 "nbformat": 4,
 "nbformat_minor": 4
}
